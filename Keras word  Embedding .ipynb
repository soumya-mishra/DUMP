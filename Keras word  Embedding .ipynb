{
 "cells": [
  {
   "cell_type": "code",
   "execution_count": 8,
   "metadata": {},
   "outputs": [],
   "source": [
    "import pandas as pd\n",
    "from keras.preprocessing.text import one_hot\n",
    "from keras.preprocessing.sequence import pad_sequences\n",
    "from keras.models import Sequential\n",
    "from keras.layers import Dense\n",
    "from keras.layers import Flatten\n",
    "from keras.layers.embeddings import Embedding\n",
    "dat = pd.read_csv(r\"C:\\Users\\OneDrive - SAP SE\\Machine Learning\\Dataset\\train.csv\")"
   ]
  },
  {
   "cell_type": "code",
   "execution_count": 9,
   "metadata": {},
   "outputs": [
    {
     "name": "stdout",
     "output_type": "stream",
     "text": [
      "<class 'pandas.core.frame.DataFrame'>\n",
      "RangeIndex: 20 entries, 0 to 19\n",
      "Data columns (total 5 columns):\n",
      " #   Column  Non-Null Count  Dtype \n",
      "---  ------  --------------  ----- \n",
      " 0   id      20 non-null     int64 \n",
      " 1   title   20 non-null     object\n",
      " 2   author  18 non-null     object\n",
      " 3   text    20 non-null     object\n",
      " 4   label   20 non-null     int64 \n",
      "dtypes: int64(2), object(3)\n",
      "memory usage: 928.0+ bytes\n"
     ]
    }
   ],
   "source": [
    "dat= dat[:20]\n",
    "dat.info()\n",
    "dat['author'].isnull().sum()\n",
    "dat['author'].fillna('UNK',inplace = True)"
   ]
  },
  {
   "cell_type": "code",
   "execution_count": 10,
   "metadata": {},
   "outputs": [
    {
     "data": {
      "text/plain": [
       "0"
      ]
     },
     "execution_count": 10,
     "metadata": {},
     "output_type": "execute_result"
    }
   ],
   "source": [
    "dat['author'].isnull().sum()"
   ]
  },
  {
   "cell_type": "code",
   "execution_count": 11,
   "metadata": {},
   "outputs": [],
   "source": [
    "dat.drop(columns='id',inplace=True)\n",
    "dat['total'] = dat[['title','text']].apply(lambda x: ' '.join(x),axis = 1 )\n",
    "dat.drop(columns=['title','text'],inplace=True)"
   ]
  },
  {
   "cell_type": "code",
   "execution_count": 23,
   "metadata": {},
   "outputs": [
    {
     "name": "stdout",
     "output_type": "stream",
     "text": [
      "839\n"
     ]
    }
   ],
   "source": [
    "vocab_size = 50\n",
    "encoded_docs = list()\n",
    "# encoded_docs = [one_hot(d, vocab_size) for d in docs]\n",
    "for d in dat['total']:\n",
    "    encoded_docs.append(one_hot(d, vocab_size))\n",
    "\n",
    "print(len(encoded_docs[0]))"
   ]
  },
  {
   "cell_type": "code",
   "execution_count": 42,
   "metadata": {},
   "outputs": [],
   "source": [
    "labels = dat['label'].to_numpy()"
   ]
  },
  {
   "cell_type": "code",
   "execution_count": 40,
   "metadata": {},
   "outputs": [],
   "source": [
    "max_length = 32\n",
    "padded_docs = pad_sequences(encoded_docs, maxlen=max_length, padding='post',truncating='post' )"
   ]
  },
  {
   "cell_type": "code",
   "execution_count": 37,
   "metadata": {},
   "outputs": [
    {
     "data": {
      "text/plain": [
       "array([[39, 12, 27, 36, 34, 15, 18, 34, 47,  8,  1, 29, 48, 29, 39, 12,\n",
       "        27, 36, 34, 15, 18, 34, 47,  8,  1, 29, 48, 29,  2, 10,  6,  5],\n",
       "       [25, 23, 45, 49, 33,  5, 18, 30, 10, 42, 13,  6,  4, 31,  5, 13,\n",
       "        39, 38,  2, 27, 33, 20,  1, 48, 34, 13,  1,  7, 23, 45, 16, 13],\n",
       "       [ 2, 13,  9, 16, 42, 43, 27,  2, 13,  9, 16, 42, 43, 27, 23, 49,\n",
       "        45, 13, 17, 48, 23, 13, 29,  1, 22, 49, 38, 24, 48, 38, 32, 29],\n",
       "       [ 7, 13,  1, 33, 30, 47, 17, 46, 24, 44, 24,  7, 13,  1, 33, 30,\n",
       "        47, 17, 46, 24, 44, 13, 48,  3, 48, 13, 46, 21,  1,  2, 22, 36],\n",
       "       [26, 33,  3, 23,  1,  2, 14, 32, 33, 19, 18, 49, 23, 24, 16, 40,\n",
       "        26, 33, 49, 24, 26, 18, 18, 23, 33, 11, 48, 14, 18, 14, 33, 45],\n",
       "       [37,  4,  9,  5, 44, 25, 20,  5, 12, 28, 43,  8, 42,  4, 47, 41,\n",
       "        25,  6, 30, 33, 19, 14, 34, 37,  4, 46, 13, 24,  4, 40, 33, 34],\n",
       "       [31, 31,  4, 23,  4,  9, 49,  3, 40,  3, 18, 30,  3,  5, 41, 29,\n",
       "        40, 10, 36,  2, 40, 24,  2, 34, 20, 30,  7, 20, 41, 32, 48, 46],\n",
       "       [47,  4, 11, 32, 13, 16, 24, 29, 13, 12, 27, 34, 39, 10, 13, 32,\n",
       "        40, 34, 34, 43, 33, 46, 20, 18, 38, 13, 13, 29, 44, 33, 13, 24],\n",
       "       [29, 23, 20, 49, 38, 23, 22, 19, 38, 16, 46, 20, 18, 46, 25, 13,\n",
       "        12, 27, 34, 22, 19, 25, 46, 30, 18, 48, 20, 39, 21, 40, 18, 40],\n",
       "       [20, 39,  1, 39, 23, 37, 29, 47, 22,  4, 25, 12, 13, 12, 27, 34,\n",
       "        20, 32, 19,  2, 44, 25, 31, 29,  1, 32, 36, 20, 21, 33, 31, 18],\n",
       "       [37, 20, 23, 43, 21, 46, 19, 14, 25, 18, 21, 19, 37, 20, 23, 43,\n",
       "        13,  9, 27, 27,  5, 23, 29, 37, 19, 24, 35, 49, 46, 46, 13, 19],\n",
       "       [35, 31, 27, 22, 25,  4, 27, 15, 43, 13, 35, 21, 27,  5, 13, 18,\n",
       "        43, 29, 42, 48, 49, 20, 42,  3, 21, 24, 49, 24, 11,  2, 18, 29],\n",
       "       [17, 37, 22,  9, 42, 33, 35,  1, 10, 33, 13, 31, 44, 13,  9, 49,\n",
       "        13, 36,  2, 29, 42, 24, 46, 31, 20, 17,  4, 28, 48, 48, 39, 31],\n",
       "       [47,  1, 18, 18, 18, 48, 25, 29, 47, 45, 35, 35, 11, 26, 38, 47,\n",
       "        37, 46, 13, 45, 39, 35, 48, 16, 13, 45, 35, 46,  2, 41, 35, 23],\n",
       "       [46, 37, 45, 46, 12, 47, 32,  5,  5,  8,  2, 33, 29, 11, 37, 45,\n",
       "        46, 12, 47, 32,  5,  5,  8,  2, 33, 29, 11, 46,  7, 39, 11, 43],\n",
       "       [33, 13, 24, 33, 42,  3, 20,  9, 29, 24, 13, 12, 27, 34, 30, 12,\n",
       "        34, 31, 46, 13, 19, 35, 31, 18,  7, 35,  5, 20, 13, 24, 33, 33],\n",
       "       [11, 33, 42, 49, 34, 16, 13, 12, 27, 34, 13, 43, 10, 11, 33, 27,\n",
       "        49, 17, 29, 42, 34,  5, 47, 29, 48, 44, 31, 12, 45,  9, 23, 13],\n",
       "       [24, 34, 15, 25, 37, 19, 18, 23,  9, 15,  3, 13, 49, 19,  5, 20,\n",
       "        13, 32, 43, 41, 49, 43, 24, 38, 48, 15, 10,  6, 46,  7, 33, 28],\n",
       "       [11, 35, 33,  5, 23, 11, 35, 33,  5, 23, 43,  5,  9, 24, 14, 24,\n",
       "        33, 22, 24, 11, 35, 33,  5, 23, 36, 17, 46, 37, 41, 11, 43,  4],\n",
       "       [35, 36,  3,  9, 22, 25, 20,  1, 15, 30, 47, 48, 22, 19,  1, 31,\n",
       "         3, 25, 46, 33, 12, 27,  5, 44, 45, 13, 16, 20, 35, 36,  2, 45]])"
      ]
     },
     "execution_count": 37,
     "metadata": {},
     "output_type": "execute_result"
    }
   ],
   "source": [
    "padded_docs"
   ]
  },
  {
   "cell_type": "code",
   "execution_count": 32,
   "metadata": {},
   "outputs": [
    {
     "data": {
      "text/plain": [
       "numpy.ndarray"
      ]
     },
     "execution_count": 32,
     "metadata": {},
     "output_type": "execute_result"
    }
   ],
   "source": [
    "type(padded_docs)"
   ]
  },
  {
   "cell_type": "code",
   "execution_count": 33,
   "metadata": {},
   "outputs": [],
   "source": [
    "vocab_size = 5000\n",
    "model = Sequential()\n",
    "model.add(Embedding(vocab_size, 32, input_length=max_length))\n",
    "model.add(Flatten())\n",
    "model.add(Dense(1, activation='sigmoid'))"
   ]
  },
  {
   "cell_type": "code",
   "execution_count": 34,
   "metadata": {},
   "outputs": [
    {
     "name": "stdout",
     "output_type": "stream",
     "text": [
      "Model: \"sequential\"\n",
      "_________________________________________________________________\n",
      "Layer (type)                 Output Shape              Param #   \n",
      "=================================================================\n",
      "embedding (Embedding)        (None, 32, 32)            160000    \n",
      "_________________________________________________________________\n",
      "flatten (Flatten)            (None, 1024)              0         \n",
      "_________________________________________________________________\n",
      "dense (Dense)                (None, 1)                 1025      \n",
      "=================================================================\n",
      "Total params: 161,025\n",
      "Trainable params: 161,025\n",
      "Non-trainable params: 0\n",
      "_________________________________________________________________\n"
     ]
    }
   ],
   "source": [
    "model.summary()"
   ]
  },
  {
   "cell_type": "code",
   "execution_count": 35,
   "metadata": {},
   "outputs": [],
   "source": [
    "model.compile(optimizer='adam', loss='binary_crossentropy', metrics=['accuracy'])"
   ]
  },
  {
   "cell_type": "code",
   "execution_count": 36,
   "metadata": {},
   "outputs": [
    {
     "name": "stdout",
     "output_type": "stream",
     "text": [
      "Model: \"sequential\"\n",
      "_________________________________________________________________\n",
      "Layer (type)                 Output Shape              Param #   \n",
      "=================================================================\n",
      "embedding (Embedding)        (None, 32, 32)            160000    \n",
      "_________________________________________________________________\n",
      "flatten (Flatten)            (None, 1024)              0         \n",
      "_________________________________________________________________\n",
      "dense (Dense)                (None, 1)                 1025      \n",
      "=================================================================\n",
      "Total params: 161,025\n",
      "Trainable params: 161,025\n",
      "Non-trainable params: 0\n",
      "_________________________________________________________________\n",
      "None\n"
     ]
    }
   ],
   "source": [
    "print(model.summary())"
   ]
  },
  {
   "cell_type": "code",
   "execution_count": 43,
   "metadata": {},
   "outputs": [
    {
     "data": {
      "text/plain": [
       "<tensorflow.python.keras.callbacks.History at 0x25a9d48fd48>"
      ]
     },
     "execution_count": 43,
     "metadata": {},
     "output_type": "execute_result"
    }
   ],
   "source": [
    "model.fit(padded_docs, labels, epochs=50, verbose=0)"
   ]
  },
  {
   "cell_type": "code",
   "execution_count": 44,
   "metadata": {},
   "outputs": [],
   "source": [
    "loss, accuracy = model.evaluate(padded_docs, labels, verbose=0)"
   ]
  },
  {
   "cell_type": "code",
   "execution_count": 46,
   "metadata": {},
   "outputs": [
    {
     "name": "stdout",
     "output_type": "stream",
     "text": [
      "0.2567594647407532\n",
      "1.0\n"
     ]
    }
   ],
   "source": [
    "print(loss)\n",
    "print(accuracy)"
   ]
  },
  {
   "cell_type": "code",
   "execution_count": null,
   "metadata": {},
   "outputs": [],
   "source": []
  }
 ],
 "metadata": {
  "kernelspec": {
   "display_name": "Python 3",
   "language": "python",
   "name": "python3"
  },
  "language_info": {
   "codemirror_mode": {
    "name": "ipython",
    "version": 3
   },
   "file_extension": ".py",
   "mimetype": "text/x-python",
   "name": "python",
   "nbconvert_exporter": "python",
   "pygments_lexer": "ipython3",
   "version": "3.7.6"
  }
 },
 "nbformat": 4,
 "nbformat_minor": 4
}
